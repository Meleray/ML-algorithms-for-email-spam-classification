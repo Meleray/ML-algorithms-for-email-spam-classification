{
  "nbformat": 4,
  "nbformat_minor": 0,
  "metadata": {
    "colab": {
      "name": "Coursework_graph.ipynb",
      "provenance": [],
      "collapsed_sections": [
        "mc0kAZgQrG6E",
        "oWvlKPVLmVwm"
      ]
    },
    "kernelspec": {
      "name": "python3",
      "display_name": "Python 3"
    },
    "language_info": {
      "name": "python"
    },
    "accelerator": "GPU"
  },
  "cells": [
    {
      "cell_type": "code",
      "metadata": {
        "colab": {
          "base_uri": "https://localhost:8080/"
        },
        "id": "-8bpAMQNMREW",
        "outputId": "da90612a-a7d5-4780-a4a0-66a3f38b758e"
      },
      "source": [
        "from google.colab import drive\n",
        "drive.mount('/content/drive')"
      ],
      "execution_count": null,
      "outputs": [
        {
          "output_type": "stream",
          "name": "stdout",
          "text": [
            "Drive already mounted at /content/drive; to attempt to forcibly remount, call drive.mount(\"/content/drive\", force_remount=True).\n"
          ]
        }
      ]
    },
    {
      "cell_type": "code",
      "metadata": {
        "colab": {
          "base_uri": "https://localhost:8080/"
        },
        "id": "uNeAAveoMYpF",
        "outputId": "7a33bd67-0222-4975-941b-3986f9eb6b5a"
      },
      "source": [
        "!pip install sentence-transformers\n",
        "!pip install tensor2tensor\n",
        "!pip install six\n",
        "import numpy as np\n",
        "import os\n",
        "import tarfile\n",
        "import zipfile\n",
        "import email\n",
        "from bs4 import BeautifulSoup, Comment\n",
        "import warnings\n",
        "warnings.filterwarnings(\"ignore\")\n",
        "import tensorflow as tf\n",
        "import pandas as pd\n",
        "import matplotlib.pyplot as plt\n",
        "import math\n",
        "import torch\n",
        "import torch.nn as nn\n",
        "import torch.nn.functional as F\n",
        "from torch.nn import TransformerEncoder, TransformerEncoderLayer\n",
        "from sentence_transformers import SentenceTransformer\n",
        "import copy\n",
        "import functools\n",
        "from six.moves import range\n",
        "from tensor2tensor.layers import common_attention\n",
        "from tensor2tensor.layers import common_layers\n",
        "from tensor2tensor.models import transformer\n",
        "from tensor2tensor.utils import registry\n",
        "from tensor2tensor.utils import expert_utils\n",
        "import networkx as nx\n",
        "import io"
      ],
      "execution_count": null,
      "outputs": [
        {
          "output_type": "stream",
          "name": "stdout",
          "text": [
            "Requirement already satisfied: sentence-transformers in /usr/local/lib/python3.7/dist-packages (2.1.0)\n",
            "Requirement already satisfied: tqdm in /usr/local/lib/python3.7/dist-packages (from sentence-transformers) (4.62.3)\n",
            "Requirement already satisfied: sentencepiece in /usr/local/lib/python3.7/dist-packages (from sentence-transformers) (0.1.96)\n",
            "Requirement already satisfied: transformers<5.0.0,>=4.6.0 in /usr/local/lib/python3.7/dist-packages (from sentence-transformers) (4.12.3)\n",
            "Requirement already satisfied: scikit-learn in /usr/local/lib/python3.7/dist-packages (from sentence-transformers) (0.22.2.post1)\n",
            "Requirement already satisfied: huggingface-hub in /usr/local/lib/python3.7/dist-packages (from sentence-transformers) (0.1.2)\n",
            "Requirement already satisfied: torchvision in /usr/local/lib/python3.7/dist-packages (from sentence-transformers) (0.10.0+cu111)\n",
            "Requirement already satisfied: nltk in /usr/local/lib/python3.7/dist-packages (from sentence-transformers) (3.2.5)\n",
            "Requirement already satisfied: scipy in /usr/local/lib/python3.7/dist-packages (from sentence-transformers) (1.4.1)\n",
            "Requirement already satisfied: torch>=1.6.0 in /usr/local/lib/python3.7/dist-packages (from sentence-transformers) (1.9.0+cu111)\n",
            "Requirement already satisfied: tokenizers>=0.10.3 in /usr/local/lib/python3.7/dist-packages (from sentence-transformers) (0.10.3)\n",
            "Requirement already satisfied: numpy in /usr/local/lib/python3.7/dist-packages (from sentence-transformers) (1.19.5)\n",
            "Requirement already satisfied: typing-extensions in /usr/local/lib/python3.7/dist-packages (from torch>=1.6.0->sentence-transformers) (3.10.0.2)\n",
            "Requirement already satisfied: regex!=2019.12.17 in /usr/local/lib/python3.7/dist-packages (from transformers<5.0.0,>=4.6.0->sentence-transformers) (2019.12.20)\n",
            "Requirement already satisfied: sacremoses in /usr/local/lib/python3.7/dist-packages (from transformers<5.0.0,>=4.6.0->sentence-transformers) (0.0.46)\n",
            "Requirement already satisfied: requests in /usr/local/lib/python3.7/dist-packages (from transformers<5.0.0,>=4.6.0->sentence-transformers) (2.23.0)\n",
            "Requirement already satisfied: packaging>=20.0 in /usr/local/lib/python3.7/dist-packages (from transformers<5.0.0,>=4.6.0->sentence-transformers) (21.2)\n",
            "Requirement already satisfied: pyyaml>=5.1 in /usr/local/lib/python3.7/dist-packages (from transformers<5.0.0,>=4.6.0->sentence-transformers) (6.0)\n",
            "Requirement already satisfied: filelock in /usr/local/lib/python3.7/dist-packages (from transformers<5.0.0,>=4.6.0->sentence-transformers) (3.3.2)\n",
            "Requirement already satisfied: importlib-metadata in /usr/local/lib/python3.7/dist-packages (from transformers<5.0.0,>=4.6.0->sentence-transformers) (4.8.1)\n",
            "Requirement already satisfied: pyparsing<3,>=2.0.2 in /usr/local/lib/python3.7/dist-packages (from packaging>=20.0->transformers<5.0.0,>=4.6.0->sentence-transformers) (2.4.7)\n",
            "Requirement already satisfied: zipp>=0.5 in /usr/local/lib/python3.7/dist-packages (from importlib-metadata->transformers<5.0.0,>=4.6.0->sentence-transformers) (3.6.0)\n",
            "Requirement already satisfied: six in /usr/local/lib/python3.7/dist-packages (from nltk->sentence-transformers) (1.15.0)\n",
            "Requirement already satisfied: idna<3,>=2.5 in /usr/local/lib/python3.7/dist-packages (from requests->transformers<5.0.0,>=4.6.0->sentence-transformers) (2.10)\n",
            "Requirement already satisfied: certifi>=2017.4.17 in /usr/local/lib/python3.7/dist-packages (from requests->transformers<5.0.0,>=4.6.0->sentence-transformers) (2021.10.8)\n",
            "Requirement already satisfied: urllib3!=1.25.0,!=1.25.1,<1.26,>=1.21.1 in /usr/local/lib/python3.7/dist-packages (from requests->transformers<5.0.0,>=4.6.0->sentence-transformers) (1.24.3)\n",
            "Requirement already satisfied: chardet<4,>=3.0.2 in /usr/local/lib/python3.7/dist-packages (from requests->transformers<5.0.0,>=4.6.0->sentence-transformers) (3.0.4)\n",
            "Requirement already satisfied: click in /usr/local/lib/python3.7/dist-packages (from sacremoses->transformers<5.0.0,>=4.6.0->sentence-transformers) (7.1.2)\n",
            "Requirement already satisfied: joblib in /usr/local/lib/python3.7/dist-packages (from sacremoses->transformers<5.0.0,>=4.6.0->sentence-transformers) (1.1.0)\n",
            "Requirement already satisfied: pillow>=5.3.0 in /usr/local/lib/python3.7/dist-packages (from torchvision->sentence-transformers) (7.1.2)\n",
            "Requirement already satisfied: tensor2tensor in /usr/local/lib/python3.7/dist-packages (1.15.7)\n",
            "Requirement already satisfied: tensorflow-addons in /usr/local/lib/python3.7/dist-packages (from tensor2tensor) (0.14.0)\n",
            "Requirement already satisfied: future in /usr/local/lib/python3.7/dist-packages (from tensor2tensor) (0.16.0)\n",
            "Requirement already satisfied: six>=1.12.0 in /usr/local/lib/python3.7/dist-packages (from tensor2tensor) (1.15.0)\n",
            "Requirement already satisfied: tensorflow-datasets in /usr/local/lib/python3.7/dist-packages (from tensor2tensor) (4.0.1)\n",
            "Requirement already satisfied: tqdm in /usr/local/lib/python3.7/dist-packages (from tensor2tensor) (4.62.3)\n",
            "Requirement already satisfied: mesh-tensorflow in /usr/local/lib/python3.7/dist-packages (from tensor2tensor) (0.1.19)\n",
            "Requirement already satisfied: gevent in /usr/local/lib/python3.7/dist-packages (from tensor2tensor) (21.8.0)\n",
            "Requirement already satisfied: sympy in /usr/local/lib/python3.7/dist-packages (from tensor2tensor) (1.7.1)\n",
            "Requirement already satisfied: dopamine-rl in /usr/local/lib/python3.7/dist-packages (from tensor2tensor) (1.0.5)\n",
            "Requirement already satisfied: tf-slim in /usr/local/lib/python3.7/dist-packages (from tensor2tensor) (1.1.0)\n",
            "Requirement already satisfied: gunicorn in /usr/local/lib/python3.7/dist-packages (from tensor2tensor) (20.1.0)\n",
            "Requirement already satisfied: h5py in /usr/local/lib/python3.7/dist-packages (from tensor2tensor) (3.1.0)\n",
            "Requirement already satisfied: google-api-python-client in /usr/local/lib/python3.7/dist-packages (from tensor2tensor) (1.12.8)\n",
            "Requirement already satisfied: oauth2client in /usr/local/lib/python3.7/dist-packages (from tensor2tensor) (4.1.3)\n",
            "Requirement already satisfied: kfac in /usr/local/lib/python3.7/dist-packages (from tensor2tensor) (0.2.0)\n",
            "Requirement already satisfied: requests in /usr/local/lib/python3.7/dist-packages (from tensor2tensor) (2.23.0)\n",
            "Requirement already satisfied: scipy in /usr/local/lib/python3.7/dist-packages (from tensor2tensor) (1.4.1)\n",
            "Requirement already satisfied: tensorflow-gan in /usr/local/lib/python3.7/dist-packages (from tensor2tensor) (2.1.0)\n",
            "Requirement already satisfied: pypng in /usr/local/lib/python3.7/dist-packages (from tensor2tensor) (0.0.21)\n",
            "Requirement already satisfied: Pillow in /usr/local/lib/python3.7/dist-packages (from tensor2tensor) (7.1.2)\n",
            "Requirement already satisfied: absl-py in /usr/local/lib/python3.7/dist-packages (from tensor2tensor) (0.12.0)\n",
            "Requirement already satisfied: bz2file in /usr/local/lib/python3.7/dist-packages (from tensor2tensor) (0.98)\n",
            "Requirement already satisfied: flask in /usr/local/lib/python3.7/dist-packages (from tensor2tensor) (1.1.4)\n",
            "Requirement already satisfied: numpy in /usr/local/lib/python3.7/dist-packages (from tensor2tensor) (1.19.5)\n",
            "Requirement already satisfied: gin-config in /usr/local/lib/python3.7/dist-packages (from tensor2tensor) (0.5.0)\n",
            "Requirement already satisfied: opencv-python in /usr/local/lib/python3.7/dist-packages (from tensor2tensor) (4.1.2.30)\n",
            "Requirement already satisfied: gym in /usr/local/lib/python3.7/dist-packages (from tensor2tensor) (0.17.3)\n",
            "Requirement already satisfied: tensorflow-probability==0.7.0 in /usr/local/lib/python3.7/dist-packages (from tensor2tensor) (0.7.0)\n",
            "Requirement already satisfied: cloudpickle>=0.6.1 in /usr/local/lib/python3.7/dist-packages (from tensorflow-probability==0.7.0->tensor2tensor) (1.3.0)\n",
            "Requirement already satisfied: decorator in /usr/local/lib/python3.7/dist-packages (from tensorflow-probability==0.7.0->tensor2tensor) (4.4.2)\n",
            "Requirement already satisfied: pyglet<=1.5.0,>=1.4.0 in /usr/local/lib/python3.7/dist-packages (from gym->tensor2tensor) (1.5.0)\n",
            "Requirement already satisfied: Jinja2<3.0,>=2.10.1 in /usr/local/lib/python3.7/dist-packages (from flask->tensor2tensor) (2.11.3)\n",
            "Requirement already satisfied: Werkzeug<2.0,>=0.15 in /usr/local/lib/python3.7/dist-packages (from flask->tensor2tensor) (1.0.1)\n",
            "Requirement already satisfied: click<8.0,>=5.1 in /usr/local/lib/python3.7/dist-packages (from flask->tensor2tensor) (7.1.2)\n",
            "Requirement already satisfied: itsdangerous<2.0,>=0.24 in /usr/local/lib/python3.7/dist-packages (from flask->tensor2tensor) (1.1.0)\n",
            "Requirement already satisfied: MarkupSafe>=0.23 in /usr/local/lib/python3.7/dist-packages (from Jinja2<3.0,>=2.10.1->flask->tensor2tensor) (2.0.1)\n",
            "Requirement already satisfied: zope.event in /usr/local/lib/python3.7/dist-packages (from gevent->tensor2tensor) (4.5.0)\n",
            "Requirement already satisfied: zope.interface in /usr/local/lib/python3.7/dist-packages (from gevent->tensor2tensor) (5.4.0)\n",
            "Requirement already satisfied: setuptools in /usr/local/lib/python3.7/dist-packages (from gevent->tensor2tensor) (57.4.0)\n",
            "Requirement already satisfied: greenlet<2.0,>=1.1.0 in /usr/local/lib/python3.7/dist-packages (from gevent->tensor2tensor) (1.1.2)\n",
            "Requirement already satisfied: google-api-core<2dev,>=1.21.0 in /usr/local/lib/python3.7/dist-packages (from google-api-python-client->tensor2tensor) (1.26.3)\n",
            "Requirement already satisfied: google-auth>=1.16.0 in /usr/local/lib/python3.7/dist-packages (from google-api-python-client->tensor2tensor) (1.35.0)\n",
            "Requirement already satisfied: google-auth-httplib2>=0.0.3 in /usr/local/lib/python3.7/dist-packages (from google-api-python-client->tensor2tensor) (0.0.4)\n",
            "Requirement already satisfied: httplib2<1dev,>=0.15.0 in /usr/local/lib/python3.7/dist-packages (from google-api-python-client->tensor2tensor) (0.17.4)\n",
            "Requirement already satisfied: uritemplate<4dev,>=3.0.0 in /usr/local/lib/python3.7/dist-packages (from google-api-python-client->tensor2tensor) (3.0.1)\n",
            "Requirement already satisfied: googleapis-common-protos<2.0dev,>=1.6.0 in /usr/local/lib/python3.7/dist-packages (from google-api-core<2dev,>=1.21.0->google-api-python-client->tensor2tensor) (1.53.0)\n",
            "Requirement already satisfied: pytz in /usr/local/lib/python3.7/dist-packages (from google-api-core<2dev,>=1.21.0->google-api-python-client->tensor2tensor) (2018.9)\n",
            "Requirement already satisfied: protobuf>=3.12.0 in /usr/local/lib/python3.7/dist-packages (from google-api-core<2dev,>=1.21.0->google-api-python-client->tensor2tensor) (3.17.3)\n",
            "Requirement already satisfied: packaging>=14.3 in /usr/local/lib/python3.7/dist-packages (from google-api-core<2dev,>=1.21.0->google-api-python-client->tensor2tensor) (21.2)\n",
            "Requirement already satisfied: rsa<5,>=3.1.4 in /usr/local/lib/python3.7/dist-packages (from google-auth>=1.16.0->google-api-python-client->tensor2tensor) (4.7.2)\n",
            "Requirement already satisfied: cachetools<5.0,>=2.0.0 in /usr/local/lib/python3.7/dist-packages (from google-auth>=1.16.0->google-api-python-client->tensor2tensor) (4.2.4)\n",
            "Requirement already satisfied: pyasn1-modules>=0.2.1 in /usr/local/lib/python3.7/dist-packages (from google-auth>=1.16.0->google-api-python-client->tensor2tensor) (0.2.8)\n",
            "Requirement already satisfied: pyparsing<3,>=2.0.2 in /usr/local/lib/python3.7/dist-packages (from packaging>=14.3->google-api-core<2dev,>=1.21.0->google-api-python-client->tensor2tensor) (2.4.7)\n",
            "Requirement already satisfied: pyasn1<0.5.0,>=0.4.6 in /usr/local/lib/python3.7/dist-packages (from pyasn1-modules>=0.2.1->google-auth>=1.16.0->google-api-python-client->tensor2tensor) (0.4.8)\n",
            "Requirement already satisfied: urllib3!=1.25.0,!=1.25.1,<1.26,>=1.21.1 in /usr/local/lib/python3.7/dist-packages (from requests->tensor2tensor) (1.24.3)\n",
            "Requirement already satisfied: certifi>=2017.4.17 in /usr/local/lib/python3.7/dist-packages (from requests->tensor2tensor) (2021.10.8)\n",
            "Requirement already satisfied: idna<3,>=2.5 in /usr/local/lib/python3.7/dist-packages (from requests->tensor2tensor) (2.10)\n",
            "Requirement already satisfied: chardet<4,>=3.0.2 in /usr/local/lib/python3.7/dist-packages (from requests->tensor2tensor) (3.0.4)\n",
            "Requirement already satisfied: cached-property in /usr/local/lib/python3.7/dist-packages (from h5py->tensor2tensor) (1.5.2)\n",
            "Requirement already satisfied: mpmath>=0.19 in /usr/local/lib/python3.7/dist-packages (from sympy->tensor2tensor) (1.2.1)\n",
            "Requirement already satisfied: typeguard>=2.7 in /usr/local/lib/python3.7/dist-packages (from tensorflow-addons->tensor2tensor) (2.7.1)\n",
            "Requirement already satisfied: dm-tree in /usr/local/lib/python3.7/dist-packages (from tensorflow-datasets->tensor2tensor) (0.1.6)\n",
            "Requirement already satisfied: termcolor in /usr/local/lib/python3.7/dist-packages (from tensorflow-datasets->tensor2tensor) (1.1.0)\n",
            "Requirement already satisfied: tensorflow-metadata in /usr/local/lib/python3.7/dist-packages (from tensorflow-datasets->tensor2tensor) (1.4.0)\n",
            "Requirement already satisfied: promise in /usr/local/lib/python3.7/dist-packages (from tensorflow-datasets->tensor2tensor) (2.3)\n",
            "Requirement already satisfied: attrs>=18.1.0 in /usr/local/lib/python3.7/dist-packages (from tensorflow-datasets->tensor2tensor) (21.2.0)\n",
            "Requirement already satisfied: importlib-resources in /usr/local/lib/python3.7/dist-packages (from tensorflow-datasets->tensor2tensor) (5.4.0)\n",
            "Requirement already satisfied: dill in /usr/local/lib/python3.7/dist-packages (from tensorflow-datasets->tensor2tensor) (0.3.4)\n",
            "Requirement already satisfied: zipp>=3.1.0 in /usr/local/lib/python3.7/dist-packages (from importlib-resources->tensorflow-datasets->tensor2tensor) (3.6.0)\n",
            "Requirement already satisfied: tensorflow-hub>=0.2 in /usr/local/lib/python3.7/dist-packages (from tensorflow-gan->tensor2tensor) (0.12.0)\n",
            "Requirement already satisfied: six in /usr/local/lib/python3.7/dist-packages (1.15.0)\n"
          ]
        }
      ]
    },
    {
      "cell_type": "markdown",
      "metadata": {
        "id": "mc0kAZgQrG6E"
      },
      "source": [
        "# U2GNN Tensorflow (unfinished)"
      ]
    },
    {
      "cell_type": "code",
      "metadata": {
        "id": "B0guCn8_1naw"
      },
      "source": [
        "def universal_transformer_encoder(encoder_input, encoder_self_attention_bias, hparams, name=\"encoder\", nonpadding=None, save_weights_to=None, make_image_summary=True):\n",
        "  x = encoder_input\n",
        "  attention_dropout_broadcast_dims = (\n",
        "      common_layers.comma_separated_string_to_integer_list(\n",
        "          getattr(hparams, \"attention_dropout_broadcast_dims\", \"\")))\n",
        "  with tf.variable_scope(name):\n",
        "    if nonpadding is not None:\n",
        "      padding = 1.0 - nonpadding\n",
        "    else:\n",
        "      padding = common_attention.attention_bias_to_padding(\n",
        "          encoder_self_attention_bias)\n",
        "      nonpadding = 1.0 - padding\n",
        "    pad_remover = None\n",
        "    if hparams.use_pad_remover and not common_layers.is_xla_compiled():\n",
        "      pad_remover = expert_utils.PadRemover(padding)\n",
        "\n",
        "    ffn_unit = functools.partial(\n",
        "        transformer_encoder_ffn_unit,\n",
        "        hparams=hparams,\n",
        "        nonpadding_mask=nonpadding,\n",
        "        pad_remover=pad_remover)\n",
        "\n",
        "    attention_unit = functools.partial(\n",
        "        transformer_encoder_attention_unit,\n",
        "        hparams=hparams,\n",
        "        encoder_self_attention_bias=encoder_self_attention_bias,\n",
        "        attention_dropout_broadcast_dims=attention_dropout_broadcast_dims,\n",
        "        save_weights_to=save_weights_to,\n",
        "        make_image_summary=make_image_summary)\n",
        "\n",
        "    x, extra_output = universal_transformer_layer(\n",
        "        x, hparams, ffn_unit, attention_unit, pad_remover=pad_remover)\n",
        "\n",
        "    if hparams.get(\"use_memory_as_last_state\", False):\n",
        "      x = extra_output  # which is memory\n",
        "    return common_layers.layer_preprocess(x, hparams), extra_output\n",
        "\n",
        "\n",
        "def universal_transformer_decoder(decoder_input, encoder_output, decoder_self_attention_bias, encoder_decoder_attention_bias, hparams, name=\"decoder\", nonpadding=None, save_weights_to=None, make_image_summary=True):\n",
        "  x = decoder_input\n",
        "  attention_dropout_broadcast_dims = (\n",
        "      common_layers.comma_separated_string_to_integer_list(\n",
        "          getattr(hparams, \"attention_dropout_broadcast_dims\", \"\")))\n",
        "  with tf.variable_scope(name):\n",
        "    ffn_unit = functools.partial(\n",
        "        transformer_decoder_ffn_unit,\n",
        "        hparams=hparams,\n",
        "        nonpadding_mask=nonpadding)\n",
        "\n",
        "    attention_unit = functools.partial(\n",
        "        transformer_decoder_attention_unit,\n",
        "        hparams=hparams,\n",
        "        encoder_output=encoder_output,\n",
        "        decoder_self_attention_bias=decoder_self_attention_bias,\n",
        "        encoder_decoder_attention_bias=encoder_decoder_attention_bias,\n",
        "        attention_dropout_broadcast_dims=attention_dropout_broadcast_dims,\n",
        "        save_weights_to=save_weights_to,\n",
        "        make_image_summary=make_image_summary)\n",
        "\n",
        "    x, extra_output = universal_transformer_layer(\n",
        "        x, hparams, ffn_unit, attention_unit)\n",
        "\n",
        "    return common_layers.layer_preprocess(x, hparams), extra_output"
      ],
      "execution_count": null,
      "outputs": []
    },
    {
      "cell_type": "code",
      "metadata": {
        "id": "I13pjPayxCFr"
      },
      "source": [
        "def universal_transformer_encoder(encoder_input, encoder_self_attention_bias, hparams, name=\"encoder\", nonpadding=None, save_weights_to=None, make_image_summary=True):\n",
        "  x = encoder_input\n",
        "  attention_dropout_broadcast_dims = (common_layers.comma_separated_string_to_integer_list(getattr(hparams, \"attention_dropout_broadcast_dims\", \"\")))\n",
        "  with tf.variable_scope(name):\n",
        "    if nonpadding is not None:\n",
        "      padding = 1.0 - nonpadding\n",
        "    else:\n",
        "      padding = common_attention.attention_bias_to_padding(encoder_self_attention_bias)\n",
        "      nonpadding = 1.0 - padding\n",
        "    pad_remover = None\n",
        "    if hparams.use_pad_remover and not common_layers.is_xla_compiled():\n",
        "      pad_remover = expert_utils.PadRemover(padding)\n",
        "    ffn_unit = functools.partial(transformer_encoder_ffn_unit,hparams=hparams,nonpadding_mask=nonpadding,pad_remover=pad_remover)\n",
        "    attention_unit = functools.partial(\n",
        "        transformer_encoder_attention_unit,\n",
        "        hparams=hparams,\n",
        "        encoder_self_attention_bias=encoder_self_attention_bias,\n",
        "        attention_dropout_broadcast_dims=attention_dropout_broadcast_dims,\n",
        "        save_weights_to=save_weights_to,\n",
        "        make_image_summary=make_image_summary)\n",
        "    x, extra_output = universal_transformer_layer(x, hparams, ffn_unit, attention_unit, pad_remover=pad_remover)\n",
        "    if hparams.get(\"use_memory_as_last_state\", False):\n",
        "      x = extra_output  # which is memory\n",
        "    return common_layers.layer_preprocess(x, hparams), extra_output"
      ],
      "execution_count": null,
      "outputs": []
    },
    {
      "cell_type": "code",
      "metadata": {
        "colab": {
          "base_uri": "https://localhost:8080/",
          "height": 246
        },
        "id": "7bSBkc97rXQq",
        "outputId": "81f1a25f-dfea-426c-db8a-506fd5dda559"
      },
      "source": [
        "class UniversalTransformer1(transformer.Transformer):\n",
        "\n",
        "  def encode(self, inputs, target_space, hparams, features=None, losses=None):\n",
        "    del losses\n",
        "    inputs = common_layers.flatten4d3d(inputs)\n",
        "    encoder_input, self_attention_bias, encoder_decoder_attention_bias = (transformer.transformer_prepare_encoder(inputs, target_space, hparams, features=features))\n",
        "    encoder_input = tf.nn.dropout(encoder_input, 1.0 - hparams.layer_prepostprocess_dropout)\n",
        "    (encoder_output, encoder_extra_output) = (universal_transformer_encoder(encoder_input,self_attention_bias, hparams, nonpadding=transformer.features_to_nonpadding(features, \"inputs\"), save_weights_to=self.attention_weights))\n",
        "    return encoder_output, encoder_decoder_attention_bias, encoder_extra_output\n",
        "\n",
        "  def decode(self, decoder_input, encoder_output, encoder_decoder_attention_bias, decoder_self_attention_bias, hparams, cache=None, decode_loop_step=None, nonpadding=None, losses=None):\n",
        "    del decode_loop_step\n",
        "    del losses\n",
        "    del cache\n",
        "    decoder_input = tf.nn.dropout(decoder_input, 1.0 - hparams.layer_prepostprocess_dropout)\n",
        "    (decoder_output, dec_extra_output) = (universal_transformer_decoder(decoder_input, encoder_output, decoder_self_attention_bias, encoder_decoder_attention_bias, hparams, nonpadding=nonpadding, save_weights_to=self.attention_weights))\n",
        "    return tf.expand_dims(decoder_output, axis=2), dec_extra_output\n",
        "\n",
        "  def body(self, features):\n",
        "    hparams = self._hparams\n",
        "    if hparams.add_position_timing_signal:\n",
        "      hparams.pos = None\n",
        "    if self.has_input:\n",
        "      inputs = features[\"inputs\"]\n",
        "      target_space = features[\"target_space_id\"]\n",
        "      (encoder_output, encoder_decoder_attention_bias, enc_extra_output) = self.encode(inputs, target_space, hparams, features=features)\n",
        "    else:\n",
        "      (encoder_output, encoder_decoder_attention_bias, enc_extra_output) = (None, None, (None, None))\n",
        "    targets = features[\"targets\"]\n",
        "    targets = common_layers.flatten4d3d(targets)\n",
        "    (decoder_input, decoder_self_attention_bias) = transformer.transformer_prepare_decoder(targets, hparams, features=features)\n",
        "    decoder_output, dec_extra_output = self.decode(decoder_input, encoder_output, encoder_decoder_attention_bias, decoder_self_attention_bias, hparams, nonpadding=transformer.features_to_nonpadding(features, \"targets\"))\n",
        "    expected_attentions = features.get(\"expected_attentions\")\n",
        "    if expected_attentions is not None:\n",
        "      attention_loss = common_attention.encoder_decoder_attention_loss(expected_attentions, self.attention_weights, hparams.expected_attention_loss_type, hparams.expected_attention_loss_multiplier)\n",
        "      return decoder_output, {\"attention_loss\": attention_loss}\n",
        "    if hparams.recurrence_type == \"act\" and hparams.act_loss_weight != 0:\n",
        "      if self.has_input:\n",
        "        enc_ponder_times, enc_remainders = enc_extra_output\n",
        "        enc_act_loss = (hparams.act_loss_weight * tf.reduce_mean(enc_ponder_times + enc_remainders))\n",
        "      else:\n",
        "        enc_act_loss = 0.0\n",
        "      (dec_ponder_times, dec_remainders) = dec_extra_output\n",
        "      dec_act_loss = (hparams.act_loss_weight * tf.reduce_mean(dec_ponder_times + dec_remainders))\n",
        "      act_loss = enc_act_loss + dec_act_loss\n",
        "      tf.contrib.summary.scalar(\"act_loss\", act_loss)\n",
        "      return decoder_output, {\"act_loss\": act_loss}\n",
        "    return decoder_output\n",
        "\n",
        "  def _greedy_infer(self, features, decode_length, use_tpu=False):\n",
        "    return (self._slow_greedy_infer_tpu(features, decode_length) if use_tpu else self._slow_greedy_infer(features, decode_length))\n",
        "\n",
        "  def _beam_decode(self, features, decode_length, beam_size, top_beams, alpha):\n",
        "    return self._beam_decode_slow(features, decode_length, beam_size, top_beams, alpha)\n",
        "    \n",
        "@registry.register_model\n",
        "class UniversalTransformerEncoder1(transformer.Transformer):\n",
        "  def encode(self, inputs, target_space, hparams, features=None, losses=None):\n",
        "    del losses\n",
        "    inputs = common_layers.flatten4d3d(inputs)\n",
        "    (encoder_input, self_attention_bias, _) = (transformer.transformer_prepare_encoder(inputs, target_space, hparams))\n",
        "    encoder_input = tf.nn.dropout(encoder_input, 1.0 - hparams.layer_prepostprocess_dropout)\n",
        "    (encoder_output, encoder_extra_output) = (universal_transformer_encoder(encoder_input,self_attention_bias, hparams, nonpadding=transformer.features_to_nonpadding(features, \"inputs\"), save_weights_to=self.attention_weights))\n",
        "    return encoder_output, encoder_extra_output\n",
        "\n",
        "  def body(self, features):\n",
        "    hparams = self._hparams\n",
        "    inputs = features[\"inputs\"]\n",
        "    target_space = features[\"target_space_id\"]\n",
        "    encoder_output, enc_extra_output = self.encode(inputs, target_space, hparams, features=features)\n",
        "    encoder_output = tf.expand_dims(encoder_output, 2)\n",
        "    if hparams.recurrence_type == \"act\" and hparams.act_loss_weight != 0:\n",
        "      ponder_times, remainders = enc_extra_output\n",
        "      act_loss = hparams.act_loss_weight * tf.reduce_mean(ponder_times + remainders)\n",
        "      tf.contrib.summary.scalar(\"act_loss\", act_loss)\n",
        "      return encoder_output, {\"act_loss\": act_loss}\n",
        "    return encoder_output\n",
        "\n",
        "def update_hparams_for_universal_transformer(hparams):\n",
        "  hparams.daisy_chain_variables = False \n",
        "  hparams.add_hparam(\"mix_with_transformer\", None)\n",
        "  hparams.add_hparam(\"num_mixedin_layers\", 2)\n",
        "  hparams.add_hparam(\"recurrence_type\", \"basic\")\n",
        "  hparams.add_hparam(\"num_rec_steps\", hparams.num_hidden_layers)\n",
        "  hparams.add_hparam(\"add_position_timing_signal\", True)\n",
        "  if hparams.add_position_timing_signal:\n",
        "    hparams.pos = None\n",
        "  hparams.add_hparam(\"position_start_index\", None)\n",
        "  hparams.add_hparam(\"add_step_timing_signal\", True)\n",
        "  hparams.add_hparam(\"step_timing_signal_type\", \"learned\")\n",
        "  hparams.add_hparam(\"add_or_concat_timing_signal\", \"add\")\n",
        "  hparams.add_hparam(\"add_sru\", False)\n",
        "  hparams.add_hparam(\"transformer_ffn_type\", \"fc\")\n",
        "  hparams.add_hparam(\"transform_bias_init\", -1.0)\n",
        "  hparams.add_hparam(\"couple_carry_transform_gates\", True)\n",
        "  hparams.add_hparam(\"depth_embedding\", True)\n",
        "  hparams.add_hparam(\"dwa_elements\", True)\n",
        "  hparams.add_hparam(\"gate_ffn_layer\", \"dense\")\n",
        "  hparams.add_hparam(\"lstm_forget_bias\", 1.0)\n",
        "  hparams.add_hparam(\"use_memory_as_final_state\", True)\n",
        "  hparams.add_hparam(\"add_ffn_unit_to_the_transition_function\", False)\n",
        "  hparams.add_hparam(\"act_type\", \"basic\")\n",
        "  hparams.add_hparam(\"act_max_steps\", 2 * hparams.num_hidden_layers)\n",
        "  hparams.add_hparam(\"act_halting_bias_init\", 1.0)\n",
        "  hparams.add_hparam(\"act_epsilon\", 0.01)\n",
        "  hparams.add_hparam(\"act_loss_weight\", 0.01)\n",
        "  return hparams\n",
        "\n",
        "@registry.register_hparams\n",
        "def universal_transformer_small1():\n",
        "  hparams = transformer.transformer_base()\n",
        "  hparams = update_hparams_for_universal_transformer(hparams)\n",
        "  return hparams"
      ],
      "execution_count": null,
      "outputs": [
        {
          "output_type": "error",
          "ename": "NameError",
          "evalue": "ignored",
          "traceback": [
            "\u001b[0;31m---------------------------------------------------------------------------\u001b[0m",
            "\u001b[0;31mNameError\u001b[0m                                 Traceback (most recent call last)",
            "\u001b[0;32m<ipython-input-15-522392e516d5>\u001b[0m in \u001b[0;36m<module>\u001b[0;34m()\u001b[0m\n\u001b[1;32m     54\u001b[0m     \u001b[0;32mreturn\u001b[0m \u001b[0mself\u001b[0m\u001b[0;34m.\u001b[0m\u001b[0m_beam_decode_slow\u001b[0m\u001b[0;34m(\u001b[0m\u001b[0mfeatures\u001b[0m\u001b[0;34m,\u001b[0m \u001b[0mdecode_length\u001b[0m\u001b[0;34m,\u001b[0m \u001b[0mbeam_size\u001b[0m\u001b[0;34m,\u001b[0m \u001b[0mtop_beams\u001b[0m\u001b[0;34m,\u001b[0m \u001b[0malpha\u001b[0m\u001b[0;34m)\u001b[0m\u001b[0;34m\u001b[0m\u001b[0;34m\u001b[0m\u001b[0m\n\u001b[1;32m     55\u001b[0m \u001b[0;34m\u001b[0m\u001b[0m\n\u001b[0;32m---> 56\u001b[0;31m \u001b[0;34m@\u001b[0m\u001b[0mregistry\u001b[0m\u001b[0;34m.\u001b[0m\u001b[0mregister_model\u001b[0m\u001b[0;34m\u001b[0m\u001b[0;34m\u001b[0m\u001b[0m\n\u001b[0m\u001b[1;32m     57\u001b[0m \u001b[0;32mclass\u001b[0m \u001b[0mUniversalTransformerEncoder1\u001b[0m\u001b[0;34m(\u001b[0m\u001b[0mtransformer\u001b[0m\u001b[0;34m.\u001b[0m\u001b[0mTransformer\u001b[0m\u001b[0;34m)\u001b[0m\u001b[0;34m:\u001b[0m\u001b[0;34m\u001b[0m\u001b[0;34m\u001b[0m\u001b[0m\n\u001b[1;32m     58\u001b[0m   \u001b[0;32mdef\u001b[0m \u001b[0mencode\u001b[0m\u001b[0;34m(\u001b[0m\u001b[0mself\u001b[0m\u001b[0;34m,\u001b[0m \u001b[0minputs\u001b[0m\u001b[0;34m,\u001b[0m \u001b[0mtarget_space\u001b[0m\u001b[0;34m,\u001b[0m \u001b[0mhparams\u001b[0m\u001b[0;34m,\u001b[0m \u001b[0mfeatures\u001b[0m\u001b[0;34m=\u001b[0m\u001b[0;32mNone\u001b[0m\u001b[0;34m,\u001b[0m \u001b[0mlosses\u001b[0m\u001b[0;34m=\u001b[0m\u001b[0;32mNone\u001b[0m\u001b[0;34m)\u001b[0m\u001b[0;34m:\u001b[0m\u001b[0;34m\u001b[0m\u001b[0;34m\u001b[0m\u001b[0m\n",
            "\u001b[0;31mNameError\u001b[0m: name 'registry' is not defined"
          ]
        }
      ]
    },
    {
      "cell_type": "code",
      "metadata": {
        "id": "12pJya6JrN7Q"
      },
      "source": [
        "class UGformerV1(object):\n",
        "    def __init__(self, feature_dim_size, hparams_batch_size, ff_hidden_size, seq_length, num_classes, num_self_att_layers, num_GNN_layers=1):\n",
        "        self.input_x = tf.compat.v1.placeholder(tf.int32, [None, seq_length], name=\"input_x\")\n",
        "        self.graph_pool = tf.compat.v1.sparse_placeholder(tf.float32, [None, None], name=\"graph_pool\")\n",
        "        self.X_concat = tf.compat.v1.placeholder(tf.float32, [None, feature_dim_size], name=\"X_concat\")\n",
        "        self.one_hot_labels = tf.compat.v1.placeholder(tf.float32, [None, num_classes], name=\"one_hot_labels\")\n",
        "        self.dropout_keep_prob = tf.placeholder(tf.float32, name=\"dropout_keep_prob\")\n",
        "\n",
        "        #Inputs for Universal Transformer\n",
        "        self.input_UT = tf.nn.embedding_lookup(self.X_concat, self.input_x)\n",
        "        self.input_UT = tf.reshape(self.input_UT, [-1, seq_length, 1, feature_dim_size])\n",
        "\n",
        "        #Matrix weights in Universal Transformer are shared across each attention layer (timestep), while they are not in Transformer.\n",
        "        #It's optional to use Transformer Encoder.\n",
        "        self.hparams = universal_transformer_small1()\n",
        "        self.hparams.hidden_size = feature_dim_size\n",
        "        self.hparams.batch_size = hparams_batch_size * seq_length\n",
        "        self.hparams.max_length = seq_length\n",
        "        self.hparams.num_hidden_layers = num_self_att_layers  # Number of attention layers: the number T of timesteps in Universal Transformer\n",
        "        self.hparams.num_heads = 1  # due to the fact that the feature embedding sizes are various\n",
        "        self.hparams.filter_size = ff_hidden_size\n",
        "        self.hparams.use_target_space_embedding = False\n",
        "        self.hparams.pos = None\n",
        "        self.hparams.add_position_timing_signal = False\n",
        "        self.hparams.add_step_timing_signal = False\n",
        "        self.hparams.add_sru = False\n",
        "        self.hparams.add_or_concat_timing_signal = None\n",
        "\n",
        "        # Construct k GNN layers\n",
        "        self.scores = 0\n",
        "        for layer in range(num_GNN_layers):  # the number k of multiple stacked layers, each stacked layer includes a number of self-attention layers\n",
        "            # Universal Transformer Encoder\n",
        "            self.ute = universal_transformer_modified.UniversalTransformerEncoder1(self.hparams, mode=tf.estimator.ModeKeys.TRAIN)\n",
        "            self.output_UT = self.ute({\"inputs\": self.input_UT, \"targets\": 0, \"target_space_id\": 0})[0]\n",
        "            self.output_UT = tf.squeeze(self.output_UT, axis=2)\n",
        "            #\n",
        "            self.output_target_node = tf.split(self.output_UT, num_or_size_splits=seq_length, axis=1)[0]\n",
        "            self.output_target_node = tf.squeeze(self.output_target_node, axis=1)\n",
        "            #input for next GNN hidden layer\n",
        "            self.input_UT = tf.nn.embedding_lookup(self.output_target_node, self.input_x)\n",
        "            self.input_UT = tf.reshape(self.input_UT, [-1, seq_length, 1, feature_dim_size])\n",
        "            # graph pooling\n",
        "            self.graph_embeddings = tf.compat.v1.sparse_tensor_dense_matmul(self.graph_pool, self.output_target_node)\n",
        "            self.graph_embeddings = tf.nn.dropout(self.graph_embeddings, keep_prob=self.dropout_keep_prob)\n",
        "\n",
        "            # Concatenate graph representations from all GNN layers\n",
        "            with tf.variable_scope(\"layer_%d\" % layer):\n",
        "                W = tf.compat.v1.get_variable(shape=[feature_dim_size, num_classes],\n",
        "                                              initializer=tf.contrib.layers.xavier_initializer(),\n",
        "                                              name=\"W_layer_%d\" % layer)\n",
        "                b = tf.Variable(tf.zeros([num_classes]))\n",
        "                self.scores += tf.compat.v1.nn.xw_plus_b(self.graph_embeddings, W, b)\n",
        "\n",
        "        # Final predictions\n",
        "        self.predictions = tf.argmax(self.scores, 1, name=\"predictions\")\n",
        "        # Calculate mean cross-entropy loss\n",
        "        with tf.name_scope(\"loss\"):\n",
        "            losses = tf.compat.v1.nn.softmax_cross_entropy_with_logits_v2(logits=self.scores, labels=label_smoothing(self.one_hot_labels))\n",
        "            self.total_loss = tf.reduce_mean(losses)\n",
        "\n",
        "        # Accuracy\n",
        "        with tf.name_scope(\"accuracy\"):\n",
        "            correct_predictions = tf.equal(self.predictions, tf.argmax(self.one_hot_labels, 1))\n",
        "            self.accuracy = tf.reduce_sum(tf.cast(correct_predictions, \"float\"), name=\"accuracy\")\n",
        "\n",
        "        self.saver = tf.compat.v1.train.Saver(tf.global_variables(), max_to_keep=500)\n",
        "        tf.logging.info('Seting up the main structure')\n",
        "\n",
        "def label_smoothing(inputs, epsilon=0.1):\n",
        "    V = inputs.get_shape().as_list()[-1]  # number of channels\n",
        "    return ((1 - epsilon) * inputs) + (epsilon / V)"
      ],
      "execution_count": null,
      "outputs": []
    },
    {
      "cell_type": "markdown",
      "metadata": {
        "id": "oWvlKPVLmVwm"
      },
      "source": [
        "# U2GNN Pytorch"
      ]
    },
    {
      "cell_type": "code",
      "metadata": {
        "id": "wnsKjcDNmYnW"
      },
      "source": [
        "class UGformerV1(nn.Module):\n",
        "  def __init__(self, feature_dim_size, ff_hidden_size, num_classes, num_self_att_layers, dropout, num_GNN_layers):\n",
        "    super(UGformerV1, self).__init__()\n",
        "    self.feature_dim_size = feature_dim_size\n",
        "    self.ff_hidden_size = ff_hidden_size\n",
        "    self.num_classes = num_classes\n",
        "    self.num_self_att_layers = num_self_att_layers\n",
        "    self.num_GNN_layers = num_GNN_layers\n",
        "    self.ugformer_layers = torch.nn.ModuleList()\n",
        "    for _ in range(self.num_GNN_layers):\n",
        "        encoder_layers = TransformerEncoderLayer(d_model=self.feature_dim_size, nhead=1, dim_feedforward=self.ff_hidden_size, dropout=0.5)\n",
        "        self.ugformer_layers.append(TransformerEncoder(encoder_layers, self.num_self_att_layers))\n",
        "    self.predictions = torch.nn.ModuleList()\n",
        "    self.dropouts = torch.nn.ModuleList()\n",
        "    for _ in range(self.num_GNN_layers):\n",
        "        self.predictions.append(nn.Linear(self.feature_dim_size, self.num_classes))\n",
        "        self.dropouts.append(nn.Dropout(dropout))\n",
        "\n",
        "  def forward(self, input_x, graph_pool, X_concat):\n",
        "    prediction_scores = 0\n",
        "    input_Tr = F.embedding(input_x, X_concat)\n",
        "    for layer_idx in range(self.num_GNN_layers):\n",
        "        output_Tr = self.ugformer_layers[layer_idx](input_Tr)[0]\n",
        "        input_Tr = F.embedding(input_x, output_Tr)\n",
        "        graph_embeddings = torch.spmm(graph_pool, output_Tr)\n",
        "        graph_embeddings = self.dropouts[layer_idx](graph_embeddings)\n",
        "        prediction_scores += self.predictions[layer_idx](graph_embeddings)\n",
        "        return prediction_scores\n",
        "\n",
        "def label_smoothing(true_labels: torch.Tensor, classes: int, smoothing=0.1):\n",
        "    assert 0 <= smoothing < 1\n",
        "    confidence = 1.0 - smoothing\n",
        "    label_shape = torch.Size((true_labels.size(0), classes))\n",
        "    with torch.no_grad():\n",
        "        true_dist = torch.empty(size=label_shape, device=true_labels.device)\n",
        "        true_dist.fill_(smoothing / (classes - 1))\n",
        "        true_dist.scatter_(1, true_labels.data.unsqueeze(1), confidence)\n",
        "    return true_dist"
      ],
      "execution_count": null,
      "outputs": []
    },
    {
      "cell_type": "markdown",
      "metadata": {
        "id": "ZADJTMIwOpzb"
      },
      "source": [
        "# Email preprocessing\n",
        "\\"
      ]
    },
    {
      "cell_type": "code",
      "metadata": {
        "id": "GulpviYhPDCI"
      },
      "source": [
        "NODE_EMBEDDING_LENGTH = 1280\n",
        "text_encoder = SentenceTransformer('distiluse-base-multilingual-cased', device='cuda')\n",
        "attachment_encoder = tf.keras.applications.MobileNetV3Small(weights='imagenet', input_shape=(224, 224, 3), include_top = False)"
      ],
      "execution_count": null,
      "outputs": []
    },
    {
      "cell_type": "code",
      "metadata": {
        "id": "A0pPmulaPw1B"
      },
      "source": [
        "class S2VGraph(object):\n",
        "    def __init__(self):\n",
        "        self.label = 0\n",
        "        self.g = 0\n",
        "        self.neighbors = []\n",
        "        self.node_features = 0\n",
        "        self.edge_mat = 0\n",
        "        self.max_neighbour = 0\n",
        "        "
      ],
      "execution_count": null,
      "outputs": []
    },
    {
      "cell_type": "code",
      "metadata": {
        "id": "-lxaWlLEOuCh"
      },
      "source": [
        "from email.iterators import _structure\n",
        "from contextlib import redirect_stdout\n",
        "import io\n",
        "\n",
        "def tag_visible(element):\n",
        "  if element.parent.name in ['style', 'script', 'head', 'title', 'meta', '[document]'] or isinstance(element, Comment):\n",
        "      return False\n",
        "  else:\n",
        "      return True\n",
        "\n",
        "def process_html(txt):\n",
        "  soup = BeautifulSoup(txt, 'html.parser')\n",
        "  texts = soup.findAll(text=True)\n",
        "  visible_texts = filter(tag_visible, texts)\n",
        "  return ' '.join(visible_texts) \n",
        "\n",
        "def get_structure(msg):\n",
        "  with io.StringIO() as buf, redirect_stdout(buf):\n",
        "    _structure(msg)\n",
        "    ans = buf.getvalue()\n",
        "  return ans.replace(\"    \", '\\t').split('\\n')\n",
        "\n",
        "def encode_text(part):\n",
        "  text = part.get_payload(decode=True).decode('latin-1')\n",
        "  if bool(BeautifulSoup(text, \"html.parser\").find()):\n",
        "    text = process_html(text)\n",
        "  return text_encoder.encode(text)\n",
        "\n",
        "def encode_image(part):\n",
        "  if part.get_content_subtype() != 'gif':\n",
        "    with open('/content/attachment.' + part.get_content_subtype(), \"wb+\") as f:\n",
        "      f.write(part.get_payload(decode=True))\n",
        "    try:\n",
        "      image = cv2.imread('/content/attachment.' + art.get_content_subtype())\n",
        "      image = cv2.resize(image, (224, 224))\n",
        "      image = np.reshape(image, (1, 224, 224, 3))\n",
        "    except Exception:\n",
        "      return np.zeros(NODE_EMBEDDING_LENGTH)\n",
        "    return attachment_encoder.predict(image)\n",
        "  return np.zeros(NODE_EMBEDDING_LENGTH)\n",
        "\n",
        "def get_node_features(part):\n",
        "    if part.get_content_maintype() == 'text' or part.get_content_type() == 'plain':\n",
        "      features = encode_text(part)\n",
        "    elif part.get_content_maintype() == 'image':\n",
        "      features = encode_image(part)\n",
        "    else:\n",
        "      features = np.zeros(NODE_EMBEDDING_LENGTH)\n",
        "    return np.pad(features, NODE_EMBEDDING_LENGTH - features.shape[0])\n",
        "      \n",
        "\n",
        "def process_email(msg, label):\n",
        "  struct = get_structure(msg)\n",
        "  g = nx.Graph()\n",
        "  cur_graph = S2VGraph()\n",
        "  node_idx = 0\n",
        "  stack = []\n",
        "  node_features = np.zeros((len(struct), NODE_EMBEDDING_LENGTH))\n",
        "  for part in msg.walk():\n",
        "    g.add_node(node_idx, payload=part.get_content_type()) \n",
        "    cur_depth = struct[node_idx].count('\\t')\n",
        "    while len(stack) > cur_depth:\n",
        "      stack.pop()\n",
        "    if len(stack) != 0:\n",
        "      parent_idx = stack.pop()\n",
        "      g.add_edge(parent_idx, node_idx)\n",
        "      stack.append(parent_idx)\n",
        "    stack.append(node_idx)\n",
        "    node_idx += 1\n",
        "    node_features[node_idx, :] = get_node_features(part)\n",
        "  cur_graph.g = g\n",
        "  cur_graph.label = label\n",
        "  cur_graph.node_features = node_features\n",
        "  cur_graph.neighbours = [[] for i in range(len(cur_graph.g))]\n",
        "  for i, j in cur_graph.g.edges():\n",
        "    cur_graph.neighbours[i].append(j)\n",
        "    cur_graph.neighbours[j].append(i)\n",
        "  degree_list = []\n",
        "  for i in range(len(cur_graph.g)):\n",
        "    degree_list.append(len(cur_graph.neighbours[i]))\n",
        "  cur_graph.max_neighbour = max(degree_list)\n",
        "  edges = [list(pair) for pair in cur_graph.g.edges()]\n",
        "  edges.extend([[i, j] for j, i in edges])\n",
        "  deg_list = list(dict(cur_graph.g.degree(range(len(cur_graph.g)))).values())\n",
        "  cur_graph.edge_mat = np.transpose(np.array(edges, dtype=np.int32), (1,0))\n",
        "  return cur_graph\n",
        "\n",
        "\n",
        "def get_processed_arr(raw_emails, classes):\n",
        "  input_graphs = []\n",
        "  for i in range(len(raw_emails)):\n",
        "    input_graphs.append(process_email(email.message_from_string(raw_emails[i])), classes[i])\n",
        "  return input_graphs"
      ],
      "execution_count": null,
      "outputs": []
    },
    {
      "cell_type": "markdown",
      "metadata": {
        "id": "eZxRw8VdObno"
      },
      "source": [
        "# SpamAssassin"
      ]
    },
    {
      "cell_type": "code",
      "metadata": {
        "id": "-Lk7yXuJOaRc"
      },
      "source": [
        "spamassassin = zipfile.ZipFile('/content/drive/MyDrive/Colab Notebooks/Coursework/datasets/spamassassin.zip', 'r')\n",
        "spamassassin.extractall()"
      ],
      "execution_count": null,
      "outputs": []
    },
    {
      "cell_type": "code",
      "metadata": {
        "id": "bxI85mOWOiSx"
      },
      "source": [
        "def extract_emails_spamassassin():\n",
        "  spamdir = '/content/spam_2/spam_2'\n",
        "  ehamdir = '/content/easy_ham/easy_ham'\n",
        "  hhamdir = '/content/hard_ham/hard_ham'\n",
        "  nspam = len(os.listdir(spamdir))\n",
        "  neham = len(os.listdir(ehamdir))\n",
        "  nhham = len(os.listdir(hhamdir))\n",
        "  sa_classes = np.concatenate((np.ones(nspam), np.zeros(neham + nhham)))\n",
        "  sa_texts = np.empty(nspam + nhham + neham, dtype=object)\n",
        "  for i, filename in enumerate(os.listdir(spamdir)):\n",
        "    curr_email = open(os.path.join(spamdir, filename), encoding='latin-1')\n",
        "    sa_texts[i] = curr_email.read()\n",
        "  for i, filename in enumerate(os.listdir(ehamdir)):\n",
        "    curr_email = open(os.path.join(ehamdir, filename), encoding='latin-1')\n",
        "    sa_texts[i + nspam] = curr_email.read()\n",
        "  for i, filename in enumerate(os.listdir(hhamdir)):\n",
        "    curr_email = open(os.path.join(hhamdir, filename), encoding='latin-1')\n",
        "    sa_texts[i + nspam + neham] = curr_email.read()\n",
        "  return sa_texts, sa_classes"
      ],
      "execution_count": null,
      "outputs": []
    },
    {
      "cell_type": "code",
      "metadata": {
        "id": "C0MAiSl2OjOJ"
      },
      "source": [
        "sa_raw_texts, sa_classes = extract_emails_spamassassin()"
      ],
      "execution_count": null,
      "outputs": []
    },
    {
      "cell_type": "code",
      "metadata": {
        "colab": {
          "base_uri": "https://localhost:8080/",
          "height": 325
        },
        "id": "PngAvLRri6TO",
        "outputId": "b46c3854-ba52-494d-dad8-d620ee328cd5"
      },
      "source": [
        "graph = process_email(email.message_from_string(sa_raw_texts[3]), sa_classes[3])"
      ],
      "execution_count": null,
      "outputs": [
        {
          "output_type": "error",
          "ename": "RuntimeError",
          "evalue": "ignored",
          "traceback": [
            "\u001b[0;31m---------------------------------------------------------------------------\u001b[0m",
            "\u001b[0;31mRuntimeError\u001b[0m                              Traceback (most recent call last)",
            "\u001b[0;32m<ipython-input-68-418cf7b3f878>\u001b[0m in \u001b[0;36m<module>\u001b[0;34m()\u001b[0m\n\u001b[0;32m----> 1\u001b[0;31m \u001b[0mgraph\u001b[0m \u001b[0;34m=\u001b[0m \u001b[0mprocess_email\u001b[0m\u001b[0;34m(\u001b[0m\u001b[0memail\u001b[0m\u001b[0;34m.\u001b[0m\u001b[0mmessage_from_string\u001b[0m\u001b[0;34m(\u001b[0m\u001b[0msa_raw_texts\u001b[0m\u001b[0;34m[\u001b[0m\u001b[0;36m3\u001b[0m\u001b[0;34m]\u001b[0m\u001b[0;34m)\u001b[0m\u001b[0;34m,\u001b[0m \u001b[0msa_classes\u001b[0m\u001b[0;34m[\u001b[0m\u001b[0;36m3\u001b[0m\u001b[0;34m]\u001b[0m\u001b[0;34m)\u001b[0m\u001b[0;34m\u001b[0m\u001b[0;34m\u001b[0m\u001b[0m\n\u001b[0m",
            "\u001b[0;32m<ipython-input-67-c05a66a0067b>\u001b[0m in \u001b[0;36mprocess_email\u001b[0;34m(msg, label)\u001b[0m\n\u001b[1;32m     68\u001b[0m     \u001b[0mstack\u001b[0m\u001b[0;34m.\u001b[0m\u001b[0mappend\u001b[0m\u001b[0;34m(\u001b[0m\u001b[0mnode_idx\u001b[0m\u001b[0;34m)\u001b[0m\u001b[0;34m\u001b[0m\u001b[0;34m\u001b[0m\u001b[0m\n\u001b[1;32m     69\u001b[0m     \u001b[0mnode_idx\u001b[0m \u001b[0;34m+=\u001b[0m \u001b[0;36m1\u001b[0m\u001b[0;34m\u001b[0m\u001b[0;34m\u001b[0m\u001b[0m\n\u001b[0;32m---> 70\u001b[0;31m     \u001b[0mnode_features\u001b[0m\u001b[0;34m[\u001b[0m\u001b[0mnode_idx\u001b[0m\u001b[0;34m,\u001b[0m \u001b[0;34m:\u001b[0m\u001b[0;34m]\u001b[0m \u001b[0;34m=\u001b[0m \u001b[0mget_node_features\u001b[0m\u001b[0;34m(\u001b[0m\u001b[0mpart\u001b[0m\u001b[0;34m)\u001b[0m\u001b[0;34m\u001b[0m\u001b[0;34m\u001b[0m\u001b[0m\n\u001b[0m\u001b[1;32m     71\u001b[0m   \u001b[0mcur_graph\u001b[0m\u001b[0;34m.\u001b[0m\u001b[0mg\u001b[0m \u001b[0;34m=\u001b[0m \u001b[0mg\u001b[0m\u001b[0;34m\u001b[0m\u001b[0;34m\u001b[0m\u001b[0m\n\u001b[1;32m     72\u001b[0m   \u001b[0mcur_graph\u001b[0m\u001b[0;34m.\u001b[0m\u001b[0mlabel\u001b[0m \u001b[0;34m=\u001b[0m \u001b[0mlabel\u001b[0m\u001b[0;34m\u001b[0m\u001b[0;34m\u001b[0m\u001b[0m\n",
            "\u001b[0;32m<ipython-input-67-c05a66a0067b>\u001b[0m in \u001b[0;36mget_node_features\u001b[0;34m(part)\u001b[0m\n\u001b[1;32m     42\u001b[0m \u001b[0;32mdef\u001b[0m \u001b[0mget_node_features\u001b[0m\u001b[0;34m(\u001b[0m\u001b[0mpart\u001b[0m\u001b[0;34m)\u001b[0m\u001b[0;34m:\u001b[0m\u001b[0;34m\u001b[0m\u001b[0;34m\u001b[0m\u001b[0m\n\u001b[1;32m     43\u001b[0m     \u001b[0;32mif\u001b[0m \u001b[0mpart\u001b[0m\u001b[0;34m.\u001b[0m\u001b[0mget_content_maintype\u001b[0m\u001b[0;34m(\u001b[0m\u001b[0;34m)\u001b[0m \u001b[0;34m==\u001b[0m \u001b[0;34m'text'\u001b[0m \u001b[0;32mor\u001b[0m \u001b[0mpart\u001b[0m\u001b[0;34m.\u001b[0m\u001b[0mget_content_type\u001b[0m\u001b[0;34m(\u001b[0m\u001b[0;34m)\u001b[0m \u001b[0;34m==\u001b[0m \u001b[0;34m'plain'\u001b[0m\u001b[0;34m:\u001b[0m\u001b[0;34m\u001b[0m\u001b[0;34m\u001b[0m\u001b[0m\n\u001b[0;32m---> 44\u001b[0;31m       \u001b[0mfeatures\u001b[0m \u001b[0;34m=\u001b[0m \u001b[0mencode_text\u001b[0m\u001b[0;34m(\u001b[0m\u001b[0mpart\u001b[0m\u001b[0;34m)\u001b[0m\u001b[0;34m\u001b[0m\u001b[0;34m\u001b[0m\u001b[0m\n\u001b[0m\u001b[1;32m     45\u001b[0m     \u001b[0;32melif\u001b[0m \u001b[0mpart\u001b[0m\u001b[0;34m.\u001b[0m\u001b[0mget_content_maintype\u001b[0m\u001b[0;34m(\u001b[0m\u001b[0;34m)\u001b[0m \u001b[0;34m==\u001b[0m \u001b[0;34m'image'\u001b[0m\u001b[0;34m:\u001b[0m\u001b[0;34m\u001b[0m\u001b[0;34m\u001b[0m\u001b[0m\n\u001b[1;32m     46\u001b[0m       \u001b[0mfeatures\u001b[0m \u001b[0;34m=\u001b[0m \u001b[0mencode_image\u001b[0m\u001b[0;34m(\u001b[0m\u001b[0mpart\u001b[0m\u001b[0;34m)\u001b[0m\u001b[0;34m\u001b[0m\u001b[0;34m\u001b[0m\u001b[0m\n",
            "\u001b[0;32m<ipython-input-67-c05a66a0067b>\u001b[0m in \u001b[0;36mencode_text\u001b[0;34m(part)\u001b[0m\n\u001b[1;32m     25\u001b[0m   \u001b[0;32mif\u001b[0m \u001b[0mbool\u001b[0m\u001b[0;34m(\u001b[0m\u001b[0mBeautifulSoup\u001b[0m\u001b[0;34m(\u001b[0m\u001b[0mtext\u001b[0m\u001b[0;34m,\u001b[0m \u001b[0;34m\"html.parser\"\u001b[0m\u001b[0;34m)\u001b[0m\u001b[0;34m.\u001b[0m\u001b[0mfind\u001b[0m\u001b[0;34m(\u001b[0m\u001b[0;34m)\u001b[0m\u001b[0;34m)\u001b[0m\u001b[0;34m:\u001b[0m\u001b[0;34m\u001b[0m\u001b[0;34m\u001b[0m\u001b[0m\n\u001b[1;32m     26\u001b[0m     \u001b[0mtext\u001b[0m \u001b[0;34m=\u001b[0m \u001b[0mprocess_html\u001b[0m\u001b[0;34m(\u001b[0m\u001b[0mtext\u001b[0m\u001b[0;34m)\u001b[0m\u001b[0;34m\u001b[0m\u001b[0;34m\u001b[0m\u001b[0m\n\u001b[0;32m---> 27\u001b[0;31m   \u001b[0;32mreturn\u001b[0m \u001b[0mtext_encoder\u001b[0m\u001b[0;34m.\u001b[0m\u001b[0mencode\u001b[0m\u001b[0;34m(\u001b[0m\u001b[0mtext\u001b[0m\u001b[0;34m)\u001b[0m\u001b[0;34m\u001b[0m\u001b[0;34m\u001b[0m\u001b[0m\n\u001b[0m\u001b[1;32m     28\u001b[0m \u001b[0;34m\u001b[0m\u001b[0m\n\u001b[1;32m     29\u001b[0m \u001b[0;32mdef\u001b[0m \u001b[0mencode_image\u001b[0m\u001b[0;34m(\u001b[0m\u001b[0mpart\u001b[0m\u001b[0;34m)\u001b[0m\u001b[0;34m:\u001b[0m\u001b[0;34m\u001b[0m\u001b[0;34m\u001b[0m\u001b[0m\n",
            "\u001b[0;32m/usr/local/lib/python3.7/dist-packages/sentence_transformers/SentenceTransformer.py\u001b[0m in \u001b[0;36mencode\u001b[0;34m(self, sentences, batch_size, show_progress_bar, output_value, convert_to_numpy, convert_to_tensor, device, normalize_embeddings)\u001b[0m\n\u001b[1;32m    143\u001b[0m             \u001b[0mdevice\u001b[0m \u001b[0;34m=\u001b[0m \u001b[0mself\u001b[0m\u001b[0;34m.\u001b[0m\u001b[0m_target_device\u001b[0m\u001b[0;34m\u001b[0m\u001b[0;34m\u001b[0m\u001b[0m\n\u001b[1;32m    144\u001b[0m \u001b[0;34m\u001b[0m\u001b[0m\n\u001b[0;32m--> 145\u001b[0;31m         \u001b[0mself\u001b[0m\u001b[0;34m.\u001b[0m\u001b[0mto\u001b[0m\u001b[0;34m(\u001b[0m\u001b[0mdevice\u001b[0m\u001b[0;34m)\u001b[0m\u001b[0;34m\u001b[0m\u001b[0;34m\u001b[0m\u001b[0m\n\u001b[0m\u001b[1;32m    146\u001b[0m \u001b[0;34m\u001b[0m\u001b[0m\n\u001b[1;32m    147\u001b[0m         \u001b[0mall_embeddings\u001b[0m \u001b[0;34m=\u001b[0m \u001b[0;34m[\u001b[0m\u001b[0;34m]\u001b[0m\u001b[0;34m\u001b[0m\u001b[0;34m\u001b[0m\u001b[0m\n",
            "\u001b[0;32m/usr/local/lib/python3.7/dist-packages/torch/nn/modules/module.py\u001b[0m in \u001b[0;36mto\u001b[0;34m(self, *args, **kwargs)\u001b[0m\n\u001b[1;32m    850\u001b[0m             \u001b[0;32mreturn\u001b[0m \u001b[0mt\u001b[0m\u001b[0;34m.\u001b[0m\u001b[0mto\u001b[0m\u001b[0;34m(\u001b[0m\u001b[0mdevice\u001b[0m\u001b[0;34m,\u001b[0m \u001b[0mdtype\u001b[0m \u001b[0;32mif\u001b[0m \u001b[0mt\u001b[0m\u001b[0;34m.\u001b[0m\u001b[0mis_floating_point\u001b[0m\u001b[0;34m(\u001b[0m\u001b[0;34m)\u001b[0m \u001b[0;32mor\u001b[0m \u001b[0mt\u001b[0m\u001b[0;34m.\u001b[0m\u001b[0mis_complex\u001b[0m\u001b[0;34m(\u001b[0m\u001b[0;34m)\u001b[0m \u001b[0;32melse\u001b[0m \u001b[0;32mNone\u001b[0m\u001b[0;34m,\u001b[0m \u001b[0mnon_blocking\u001b[0m\u001b[0;34m)\u001b[0m\u001b[0;34m\u001b[0m\u001b[0;34m\u001b[0m\u001b[0m\n\u001b[1;32m    851\u001b[0m \u001b[0;34m\u001b[0m\u001b[0m\n\u001b[0;32m--> 852\u001b[0;31m         \u001b[0;32mreturn\u001b[0m \u001b[0mself\u001b[0m\u001b[0;34m.\u001b[0m\u001b[0m_apply\u001b[0m\u001b[0;34m(\u001b[0m\u001b[0mconvert\u001b[0m\u001b[0;34m)\u001b[0m\u001b[0;34m\u001b[0m\u001b[0;34m\u001b[0m\u001b[0m\n\u001b[0m\u001b[1;32m    853\u001b[0m \u001b[0;34m\u001b[0m\u001b[0m\n\u001b[1;32m    854\u001b[0m     def register_backward_hook(\n",
            "\u001b[0;32m/usr/local/lib/python3.7/dist-packages/torch/nn/modules/module.py\u001b[0m in \u001b[0;36m_apply\u001b[0;34m(self, fn)\u001b[0m\n\u001b[1;32m    528\u001b[0m     \u001b[0;32mdef\u001b[0m \u001b[0m_apply\u001b[0m\u001b[0;34m(\u001b[0m\u001b[0mself\u001b[0m\u001b[0;34m,\u001b[0m \u001b[0mfn\u001b[0m\u001b[0;34m)\u001b[0m\u001b[0;34m:\u001b[0m\u001b[0;34m\u001b[0m\u001b[0;34m\u001b[0m\u001b[0m\n\u001b[1;32m    529\u001b[0m         \u001b[0;32mfor\u001b[0m \u001b[0mmodule\u001b[0m \u001b[0;32min\u001b[0m \u001b[0mself\u001b[0m\u001b[0;34m.\u001b[0m\u001b[0mchildren\u001b[0m\u001b[0;34m(\u001b[0m\u001b[0;34m)\u001b[0m\u001b[0;34m:\u001b[0m\u001b[0;34m\u001b[0m\u001b[0;34m\u001b[0m\u001b[0m\n\u001b[0;32m--> 530\u001b[0;31m             \u001b[0mmodule\u001b[0m\u001b[0;34m.\u001b[0m\u001b[0m_apply\u001b[0m\u001b[0;34m(\u001b[0m\u001b[0mfn\u001b[0m\u001b[0;34m)\u001b[0m\u001b[0;34m\u001b[0m\u001b[0;34m\u001b[0m\u001b[0m\n\u001b[0m\u001b[1;32m    531\u001b[0m \u001b[0;34m\u001b[0m\u001b[0m\n\u001b[1;32m    532\u001b[0m         \u001b[0;32mdef\u001b[0m \u001b[0mcompute_should_use_set_data\u001b[0m\u001b[0;34m(\u001b[0m\u001b[0mtensor\u001b[0m\u001b[0;34m,\u001b[0m \u001b[0mtensor_applied\u001b[0m\u001b[0;34m)\u001b[0m\u001b[0;34m:\u001b[0m\u001b[0;34m\u001b[0m\u001b[0;34m\u001b[0m\u001b[0m\n",
            "\u001b[0;32m/usr/local/lib/python3.7/dist-packages/torch/nn/modules/module.py\u001b[0m in \u001b[0;36m_apply\u001b[0;34m(self, fn)\u001b[0m\n\u001b[1;32m    528\u001b[0m     \u001b[0;32mdef\u001b[0m \u001b[0m_apply\u001b[0m\u001b[0;34m(\u001b[0m\u001b[0mself\u001b[0m\u001b[0;34m,\u001b[0m \u001b[0mfn\u001b[0m\u001b[0;34m)\u001b[0m\u001b[0;34m:\u001b[0m\u001b[0;34m\u001b[0m\u001b[0;34m\u001b[0m\u001b[0m\n\u001b[1;32m    529\u001b[0m         \u001b[0;32mfor\u001b[0m \u001b[0mmodule\u001b[0m \u001b[0;32min\u001b[0m \u001b[0mself\u001b[0m\u001b[0;34m.\u001b[0m\u001b[0mchildren\u001b[0m\u001b[0;34m(\u001b[0m\u001b[0;34m)\u001b[0m\u001b[0;34m:\u001b[0m\u001b[0;34m\u001b[0m\u001b[0;34m\u001b[0m\u001b[0m\n\u001b[0;32m--> 530\u001b[0;31m             \u001b[0mmodule\u001b[0m\u001b[0;34m.\u001b[0m\u001b[0m_apply\u001b[0m\u001b[0;34m(\u001b[0m\u001b[0mfn\u001b[0m\u001b[0;34m)\u001b[0m\u001b[0;34m\u001b[0m\u001b[0;34m\u001b[0m\u001b[0m\n\u001b[0m\u001b[1;32m    531\u001b[0m \u001b[0;34m\u001b[0m\u001b[0m\n\u001b[1;32m    532\u001b[0m         \u001b[0;32mdef\u001b[0m \u001b[0mcompute_should_use_set_data\u001b[0m\u001b[0;34m(\u001b[0m\u001b[0mtensor\u001b[0m\u001b[0;34m,\u001b[0m \u001b[0mtensor_applied\u001b[0m\u001b[0;34m)\u001b[0m\u001b[0;34m:\u001b[0m\u001b[0;34m\u001b[0m\u001b[0;34m\u001b[0m\u001b[0m\n",
            "\u001b[0;32m/usr/local/lib/python3.7/dist-packages/torch/nn/modules/module.py\u001b[0m in \u001b[0;36m_apply\u001b[0;34m(self, fn)\u001b[0m\n\u001b[1;32m    528\u001b[0m     \u001b[0;32mdef\u001b[0m \u001b[0m_apply\u001b[0m\u001b[0;34m(\u001b[0m\u001b[0mself\u001b[0m\u001b[0;34m,\u001b[0m \u001b[0mfn\u001b[0m\u001b[0;34m)\u001b[0m\u001b[0;34m:\u001b[0m\u001b[0;34m\u001b[0m\u001b[0;34m\u001b[0m\u001b[0m\n\u001b[1;32m    529\u001b[0m         \u001b[0;32mfor\u001b[0m \u001b[0mmodule\u001b[0m \u001b[0;32min\u001b[0m \u001b[0mself\u001b[0m\u001b[0;34m.\u001b[0m\u001b[0mchildren\u001b[0m\u001b[0;34m(\u001b[0m\u001b[0;34m)\u001b[0m\u001b[0;34m:\u001b[0m\u001b[0;34m\u001b[0m\u001b[0;34m\u001b[0m\u001b[0m\n\u001b[0;32m--> 530\u001b[0;31m             \u001b[0mmodule\u001b[0m\u001b[0;34m.\u001b[0m\u001b[0m_apply\u001b[0m\u001b[0;34m(\u001b[0m\u001b[0mfn\u001b[0m\u001b[0;34m)\u001b[0m\u001b[0;34m\u001b[0m\u001b[0;34m\u001b[0m\u001b[0m\n\u001b[0m\u001b[1;32m    531\u001b[0m \u001b[0;34m\u001b[0m\u001b[0m\n\u001b[1;32m    532\u001b[0m         \u001b[0;32mdef\u001b[0m \u001b[0mcompute_should_use_set_data\u001b[0m\u001b[0;34m(\u001b[0m\u001b[0mtensor\u001b[0m\u001b[0;34m,\u001b[0m \u001b[0mtensor_applied\u001b[0m\u001b[0;34m)\u001b[0m\u001b[0;34m:\u001b[0m\u001b[0;34m\u001b[0m\u001b[0;34m\u001b[0m\u001b[0m\n",
            "\u001b[0;32m/usr/local/lib/python3.7/dist-packages/torch/nn/modules/module.py\u001b[0m in \u001b[0;36m_apply\u001b[0;34m(self, fn)\u001b[0m\n\u001b[1;32m    528\u001b[0m     \u001b[0;32mdef\u001b[0m \u001b[0m_apply\u001b[0m\u001b[0;34m(\u001b[0m\u001b[0mself\u001b[0m\u001b[0;34m,\u001b[0m \u001b[0mfn\u001b[0m\u001b[0;34m)\u001b[0m\u001b[0;34m:\u001b[0m\u001b[0;34m\u001b[0m\u001b[0;34m\u001b[0m\u001b[0m\n\u001b[1;32m    529\u001b[0m         \u001b[0;32mfor\u001b[0m \u001b[0mmodule\u001b[0m \u001b[0;32min\u001b[0m \u001b[0mself\u001b[0m\u001b[0;34m.\u001b[0m\u001b[0mchildren\u001b[0m\u001b[0;34m(\u001b[0m\u001b[0;34m)\u001b[0m\u001b[0;34m:\u001b[0m\u001b[0;34m\u001b[0m\u001b[0;34m\u001b[0m\u001b[0m\n\u001b[0;32m--> 530\u001b[0;31m             \u001b[0mmodule\u001b[0m\u001b[0;34m.\u001b[0m\u001b[0m_apply\u001b[0m\u001b[0;34m(\u001b[0m\u001b[0mfn\u001b[0m\u001b[0;34m)\u001b[0m\u001b[0;34m\u001b[0m\u001b[0;34m\u001b[0m\u001b[0m\n\u001b[0m\u001b[1;32m    531\u001b[0m \u001b[0;34m\u001b[0m\u001b[0m\n\u001b[1;32m    532\u001b[0m         \u001b[0;32mdef\u001b[0m \u001b[0mcompute_should_use_set_data\u001b[0m\u001b[0;34m(\u001b[0m\u001b[0mtensor\u001b[0m\u001b[0;34m,\u001b[0m \u001b[0mtensor_applied\u001b[0m\u001b[0;34m)\u001b[0m\u001b[0;34m:\u001b[0m\u001b[0;34m\u001b[0m\u001b[0;34m\u001b[0m\u001b[0m\n",
            "\u001b[0;32m/usr/local/lib/python3.7/dist-packages/torch/nn/modules/module.py\u001b[0m in \u001b[0;36m_apply\u001b[0;34m(self, fn)\u001b[0m\n\u001b[1;32m    550\u001b[0m                 \u001b[0;31m# `with torch.no_grad():`\u001b[0m\u001b[0;34m\u001b[0m\u001b[0;34m\u001b[0m\u001b[0;34m\u001b[0m\u001b[0m\n\u001b[1;32m    551\u001b[0m                 \u001b[0;32mwith\u001b[0m \u001b[0mtorch\u001b[0m\u001b[0;34m.\u001b[0m\u001b[0mno_grad\u001b[0m\u001b[0;34m(\u001b[0m\u001b[0;34m)\u001b[0m\u001b[0;34m:\u001b[0m\u001b[0;34m\u001b[0m\u001b[0;34m\u001b[0m\u001b[0m\n\u001b[0;32m--> 552\u001b[0;31m                     \u001b[0mparam_applied\u001b[0m \u001b[0;34m=\u001b[0m \u001b[0mfn\u001b[0m\u001b[0;34m(\u001b[0m\u001b[0mparam\u001b[0m\u001b[0;34m)\u001b[0m\u001b[0;34m\u001b[0m\u001b[0;34m\u001b[0m\u001b[0m\n\u001b[0m\u001b[1;32m    553\u001b[0m                 \u001b[0mshould_use_set_data\u001b[0m \u001b[0;34m=\u001b[0m \u001b[0mcompute_should_use_set_data\u001b[0m\u001b[0;34m(\u001b[0m\u001b[0mparam\u001b[0m\u001b[0;34m,\u001b[0m \u001b[0mparam_applied\u001b[0m\u001b[0;34m)\u001b[0m\u001b[0;34m\u001b[0m\u001b[0;34m\u001b[0m\u001b[0m\n\u001b[1;32m    554\u001b[0m                 \u001b[0;32mif\u001b[0m \u001b[0mshould_use_set_data\u001b[0m\u001b[0;34m:\u001b[0m\u001b[0;34m\u001b[0m\u001b[0;34m\u001b[0m\u001b[0m\n",
            "\u001b[0;32m/usr/local/lib/python3.7/dist-packages/torch/nn/modules/module.py\u001b[0m in \u001b[0;36mconvert\u001b[0;34m(t)\u001b[0m\n\u001b[1;32m    848\u001b[0m                 return t.to(device, dtype if t.is_floating_point() or t.is_complex() else None,\n\u001b[1;32m    849\u001b[0m                             non_blocking, memory_format=convert_to_format)\n\u001b[0;32m--> 850\u001b[0;31m             \u001b[0;32mreturn\u001b[0m \u001b[0mt\u001b[0m\u001b[0;34m.\u001b[0m\u001b[0mto\u001b[0m\u001b[0;34m(\u001b[0m\u001b[0mdevice\u001b[0m\u001b[0;34m,\u001b[0m \u001b[0mdtype\u001b[0m \u001b[0;32mif\u001b[0m \u001b[0mt\u001b[0m\u001b[0;34m.\u001b[0m\u001b[0mis_floating_point\u001b[0m\u001b[0;34m(\u001b[0m\u001b[0;34m)\u001b[0m \u001b[0;32mor\u001b[0m \u001b[0mt\u001b[0m\u001b[0;34m.\u001b[0m\u001b[0mis_complex\u001b[0m\u001b[0;34m(\u001b[0m\u001b[0;34m)\u001b[0m \u001b[0;32melse\u001b[0m \u001b[0;32mNone\u001b[0m\u001b[0;34m,\u001b[0m \u001b[0mnon_blocking\u001b[0m\u001b[0;34m)\u001b[0m\u001b[0;34m\u001b[0m\u001b[0;34m\u001b[0m\u001b[0m\n\u001b[0m\u001b[1;32m    851\u001b[0m \u001b[0;34m\u001b[0m\u001b[0m\n\u001b[1;32m    852\u001b[0m         \u001b[0;32mreturn\u001b[0m \u001b[0mself\u001b[0m\u001b[0;34m.\u001b[0m\u001b[0m_apply\u001b[0m\u001b[0;34m(\u001b[0m\u001b[0mconvert\u001b[0m\u001b[0;34m)\u001b[0m\u001b[0;34m\u001b[0m\u001b[0;34m\u001b[0m\u001b[0m\n",
            "\u001b[0;32m/usr/local/lib/python3.7/dist-packages/torch/cuda/__init__.py\u001b[0m in \u001b[0;36m_lazy_init\u001b[0;34m()\u001b[0m\n\u001b[1;32m    170\u001b[0m         \u001b[0;31m# This function throws if there's a driver initialization error, no GPUs\u001b[0m\u001b[0;34m\u001b[0m\u001b[0;34m\u001b[0m\u001b[0;34m\u001b[0m\u001b[0m\n\u001b[1;32m    171\u001b[0m         \u001b[0;31m# are found or any other error occurs\u001b[0m\u001b[0;34m\u001b[0m\u001b[0;34m\u001b[0m\u001b[0;34m\u001b[0m\u001b[0m\n\u001b[0;32m--> 172\u001b[0;31m         \u001b[0mtorch\u001b[0m\u001b[0;34m.\u001b[0m\u001b[0m_C\u001b[0m\u001b[0;34m.\u001b[0m\u001b[0m_cuda_init\u001b[0m\u001b[0;34m(\u001b[0m\u001b[0;34m)\u001b[0m\u001b[0;34m\u001b[0m\u001b[0;34m\u001b[0m\u001b[0m\n\u001b[0m\u001b[1;32m    173\u001b[0m         \u001b[0;31m# Some of the queued calls may reentrantly call _lazy_init();\u001b[0m\u001b[0;34m\u001b[0m\u001b[0;34m\u001b[0m\u001b[0;34m\u001b[0m\u001b[0m\n\u001b[1;32m    174\u001b[0m         \u001b[0;31m# we need to just return without initializing in that case.\u001b[0m\u001b[0;34m\u001b[0m\u001b[0;34m\u001b[0m\u001b[0;34m\u001b[0m\u001b[0m\n",
            "\u001b[0;31mRuntimeError\u001b[0m: No CUDA GPUs are available"
          ]
        }
      ]
    },
    {
      "cell_type": "code",
      "metadata": {
        "colab": {
          "base_uri": "https://localhost:8080/",
          "height": 319
        },
        "id": "QQFUPxkyrLPx",
        "outputId": "255caff8-946c-4e31-d41c-ef0039a41660"
      },
      "source": [
        "nx.draw(graph.g, labels=nx.get_node_attributes(graph.g, \"payload\"))"
      ],
      "execution_count": null,
      "outputs": [
        {
          "output_type": "display_data",
          "data": {
            "image/png": "[encoded data removed]",
            "text/plain": [
              "<Figure size 432x288 with 1 Axes>"
            ]
          },
          "metadata": {}
        }
      ]
    },
    {
      "cell_type": "code",
      "metadata": {
        "colab": {
          "base_uri": "https://localhost:8080/"
        },
        "id": "5AMTf5YQrZEH",
        "outputId": "ea01a869-e8bd-4265-9997-d906279f7272"
      },
      "source": [
        "_structure(email.message_from_string(sa_raw_texts[3]))"
      ],
      "execution_count": null,
      "outputs": [
        {
          "output_type": "stream",
          "name": "stdout",
          "text": [
            "multipart/alternative\n",
            "    text/plain\n",
            "    text/html\n"
          ]
        }
      ]
    },
    {
      "cell_type": "code",
      "metadata": {
        "colab": {
          "base_uri": "https://localhost:8080/"
        },
        "id": "H-SK6HJPiwUH",
        "outputId": "444a99f8-82e0-4bee-e9d4-52c0b8f8131c"
      },
      "source": [
        "print(tmp.strip().split('\\n'))"
      ],
      "execution_count": null,
      "outputs": [
        {
          "output_type": "stream",
          "name": "stdout",
          "text": [
            "['multipart/alternative', '\\ttext/plain', '\\ttext/html']\n"
          ]
        }
      ]
    }
  ]
}